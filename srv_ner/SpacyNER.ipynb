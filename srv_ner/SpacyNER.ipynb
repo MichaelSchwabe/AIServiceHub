{
 "cells": [
  {
   "cell_type": "code",
   "execution_count": 7,
   "id": "4dd7c422-5eab-416b-a98b-7bf5daf47fc8",
   "metadata": {},
   "outputs": [],
   "source": [
    "import spacy\n",
    "from fastapi import FastAPI\n",
    "from pydantic import BaseModel\n",
    "from typing import List\n",
    "import spacy\n",
    "from spacy.lang.de.examples import sentences "
   ]
  },
  {
   "cell_type": "code",
   "execution_count": 2,
   "id": "73901c3c-4266-41f0-81d0-c4dc4bc01e96",
   "metadata": {},
   "outputs": [
    {
     "name": "stdout",
     "output_type": "stream",
     "text": [
      "^C\n"
     ]
    }
   ],
   "source": [
    "!python -m spacy download de_core_news_lg"
   ]
  },
  {
   "cell_type": "code",
   "execution_count": 8,
   "id": "a92e8584-16ca-4e1b-a543-afa78868fed2",
   "metadata": {},
   "outputs": [],
   "source": [
    "nlp = spacy.load(\"de_core_news_lg\")"
   ]
  },
  {
   "cell_type": "code",
   "execution_count": 9,
   "id": "d0f5bc53-4f4d-4aef-94c6-5651b3912e04",
   "metadata": {},
   "outputs": [
    {
     "name": "stdout",
     "output_type": "stream",
     "text": [
      "Trend zum Urlaub in Deutschland beschert Gastwirten mehr Umsatz\n",
      "Trend NOUN sb\n",
      "zum ADP mnr\n",
      "Urlaub NOUN nk\n",
      "in ADP mnr\n",
      "Deutschland PROPN nk\n",
      "beschert VERB ROOT\n",
      "Gastwirten NOUN da\n",
      "mehr DET nk\n",
      "Umsatz NOUN oa\n"
     ]
    }
   ],
   "source": [
    "doc = nlp(sentences[2])\n",
    "print(doc.text)\n",
    "for token in doc:\n",
    "    print(token.text, token.pos_, token.dep_)"
   ]
  },
  {
   "cell_type": "code",
   "execution_count": 12,
   "id": "063d87de-f954-444e-a059-1aae844a439a",
   "metadata": {},
   "outputs": [
    {
     "name": "stdout",
     "output_type": "stream",
     "text": [
      "Trend zum Urlaub\n",
      "Deutschland\n"
     ]
    }
   ],
   "source": [
    "for token in doc.ents:\n",
    "    print(token.text, \n",
    "          #token.pos_, \n",
    "          #token.dep_\n",
    "         )"
   ]
  },
  {
   "cell_type": "code",
   "execution_count": null,
   "id": "7358fdf1-6219-4199-a3b0-3efd46f06aaa",
   "metadata": {},
   "outputs": [],
   "source": []
  }
 ],
 "metadata": {
  "kernelspec": {
   "display_name": "Python 3",
   "language": "python",
   "name": "python3"
  },
  "language_info": {
   "codemirror_mode": {
    "name": "ipython",
    "version": 3
   },
   "file_extension": ".py",
   "mimetype": "text/x-python",
   "name": "python",
   "nbconvert_exporter": "python",
   "pygments_lexer": "ipython3",
   "version": "3.10.4"
  }
 },
 "nbformat": 4,
 "nbformat_minor": 5
}

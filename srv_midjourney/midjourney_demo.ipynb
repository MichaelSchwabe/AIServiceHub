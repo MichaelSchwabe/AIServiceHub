{
 "cells": [
  {
   "cell_type": "markdown",
   "id": "e7449467-94ad-41b1-9882-fe01808b0d56",
   "metadata": {},
   "source": [
    "https://colab.research.google.com/github/huggingface/notebooks/blob/main/diffusers/sd_dreambooth_inference.ipynb#scrollTo=sUE8A7znAlvM"
   ]
  },
  {
   "cell_type": "code",
   "execution_count": 1,
   "id": "fbbdee19-f38f-4164-98d6-3f3014503708",
   "metadata": {
    "tags": []
   },
   "outputs": [
    {
     "name": "stderr",
     "output_type": "stream",
     "text": [
      "C:\\Users\\micha\\anaconda3\\envs\\fastapi_diffuser\\lib\\site-packages\\tqdm\\auto.py:21: TqdmWarning: IProgress not found. Please update jupyter and ipywidgets. See https://ipywidgets.readthedocs.io/en/stable/user_install.html\n",
      "  from .autonotebook import tqdm as notebook_tqdm\n"
     ]
    }
   ],
   "source": [
    "import diffusers\n",
    "import gradio\n",
    "from PIL import Image\n",
    "def image_grid(imgs, rows, cols):\n",
    "    assert len(imgs) == rows*cols\n",
    "\n",
    "    w, h = imgs[0].size\n",
    "    grid = Image.new('RGB', size=(cols*w, rows*h))\n",
    "    grid_w, grid_h = grid.size\n",
    "    \n",
    "    for i, img in enumerate(imgs):\n",
    "        grid.paste(img, box=(i%cols*w, i//cols*h))\n",
    "    return grid"
   ]
  },
  {
   "cell_type": "code",
   "execution_count": 2,
   "id": "4afd8810-e9c1-479b-a075-74def78dd3ac",
   "metadata": {
    "tags": []
   },
   "outputs": [
    {
     "name": "stderr",
     "output_type": "stream",
     "text": [
      "Fetching 15 files: 100%|███████████████████████████████████████████████████████████████████████████████████████████████████████████████████| 15/15 [00:00<?, ?it/s]\n",
      "`text_config_dict` is provided which will be used to initialize `CLIPTextConfig`. The value `text_config[\"id2label\"]` will be overriden.\n",
      "C:\\Users\\micha\\anaconda3\\envs\\fastapi_diffuser\\lib\\site-packages\\transformers\\models\\clip\\feature_extraction_clip.py:28: FutureWarning: The class CLIPFeatureExtractor is deprecated and will be removed in version 5 of Transformers. Please use CLIPImageProcessor instead.\n",
      "  warnings.warn(\n"
     ]
    }
   ],
   "source": [
    "from torch import autocast\n",
    "from diffusers import StableDiffusionPipeline\n",
    "import torch\n",
    "\n",
    "model_id = \"sd-dreambooth-library/cat-toy\" #@param {type:\"string\"}\n",
    "pipe = StableDiffusionPipeline.from_pretrained(model_id, torch_dtype=torch.float16).to(\"cuda\")"
   ]
  },
  {
   "cell_type": "code",
   "execution_count": null,
   "id": "949bc1df-e121-4820-8091-5e2db426e93d",
   "metadata": {
    "tags": []
   },
   "outputs": [
    {
     "name": "stdout",
     "output_type": "stream",
     "text": [
      "Running on local URL:  http://127.0.0.1:7860\n",
      "\n",
      "To create a public link, set `share=True` in `launch()`.\n"
     ]
    },
    {
     "data": {
      "text/html": [
       "<div><iframe src=\"http://127.0.0.1:7860/\" width=\"100%\" height=\"500\" allow=\"autoplay; camera; microphone; clipboard-read; clipboard-write;\" frameborder=\"0\" allowfullscreen></iframe></div>"
      ],
      "text/plain": [
       "<IPython.core.display.HTML object>"
      ]
     },
     "metadata": {},
     "output_type": "display_data"
    },
    {
     "name": "stderr",
     "output_type": "stream",
     "text": [
      "  0%|                                                                                                                                      | 0/150 [00:01<?, ?it/s]\n",
      "Traceback (most recent call last):\n",
      "  File \"C:\\Users\\micha\\anaconda3\\envs\\fastapi_diffuser\\lib\\site-packages\\gradio\\routes.py\", line 394, in run_predict\n",
      "    output = await app.get_blocks().process_api(\n",
      "  File \"C:\\Users\\micha\\anaconda3\\envs\\fastapi_diffuser\\lib\\site-packages\\gradio\\blocks.py\", line 1075, in process_api\n",
      "    result = await self.call_function(\n",
      "  File \"C:\\Users\\micha\\anaconda3\\envs\\fastapi_diffuser\\lib\\site-packages\\gradio\\blocks.py\", line 884, in call_function\n",
      "    prediction = await anyio.to_thread.run_sync(\n",
      "  File \"C:\\Users\\micha\\anaconda3\\envs\\fastapi_diffuser\\lib\\site-packages\\anyio\\to_thread.py\", line 31, in run_sync\n",
      "    return await get_asynclib().run_sync_in_worker_thread(\n",
      "  File \"C:\\Users\\micha\\anaconda3\\envs\\fastapi_diffuser\\lib\\site-packages\\anyio\\_backends\\_asyncio.py\", line 937, in run_sync_in_worker_thread\n",
      "    return await future\n",
      "  File \"C:\\Users\\micha\\anaconda3\\envs\\fastapi_diffuser\\lib\\site-packages\\anyio\\_backends\\_asyncio.py\", line 867, in run\n",
      "    result = context.run(func, *args)\n",
      "  File \"C:\\Users\\micha\\AppData\\Local\\Temp\\ipykernel_11168\\3515066300.py\", line 9, in inference\n",
      "    images = pipe(prompt, num_images_per_prompt=num_samples, num_inference_steps=150, guidance_scale=7.5).images\n",
      "  File \"C:\\Users\\micha\\anaconda3\\envs\\fastapi_diffuser\\lib\\site-packages\\torch\\utils\\_contextlib.py\", line 115, in decorate_context\n",
      "    return func(*args, **kwargs)\n",
      "  File \"C:\\Users\\micha\\anaconda3\\envs\\fastapi_diffuser\\lib\\site-packages\\diffusers\\pipelines\\stable_diffusion\\pipeline_stable_diffusion.py\", line 529, in __call__\n",
      "    noise_pred = self.unet(latent_model_input, t, encoder_hidden_states=text_embeddings).sample\n",
      "  File \"C:\\Users\\micha\\anaconda3\\envs\\fastapi_diffuser\\lib\\site-packages\\torch\\nn\\modules\\module.py\", line 1501, in _call_impl\n",
      "    return forward_call(*args, **kwargs)\n",
      "  File \"C:\\Users\\micha\\anaconda3\\envs\\fastapi_diffuser\\lib\\site-packages\\diffusers\\models\\unet_2d_condition.py\", line 424, in forward\n",
      "    sample, res_samples = downsample_block(\n",
      "  File \"C:\\Users\\micha\\anaconda3\\envs\\fastapi_diffuser\\lib\\site-packages\\torch\\nn\\modules\\module.py\", line 1501, in _call_impl\n",
      "    return forward_call(*args, **kwargs)\n",
      "  File \"C:\\Users\\micha\\anaconda3\\envs\\fastapi_diffuser\\lib\\site-packages\\diffusers\\models\\unet_2d_blocks.py\", line 777, in forward\n",
      "    hidden_states = attn(hidden_states, encoder_hidden_states=encoder_hidden_states).sample\n",
      "  File \"C:\\Users\\micha\\anaconda3\\envs\\fastapi_diffuser\\lib\\site-packages\\torch\\nn\\modules\\module.py\", line 1501, in _call_impl\n",
      "    return forward_call(*args, **kwargs)\n",
      "  File \"C:\\Users\\micha\\anaconda3\\envs\\fastapi_diffuser\\lib\\site-packages\\diffusers\\models\\attention.py\", line 216, in forward\n",
      "    hidden_states = block(hidden_states, encoder_hidden_states=encoder_hidden_states, timestep=timestep)\n",
      "  File \"C:\\Users\\micha\\anaconda3\\envs\\fastapi_diffuser\\lib\\site-packages\\torch\\nn\\modules\\module.py\", line 1501, in _call_impl\n",
      "    return forward_call(*args, **kwargs)\n",
      "  File \"C:\\Users\\micha\\anaconda3\\envs\\fastapi_diffuser\\lib\\site-packages\\diffusers\\models\\attention.py\", line 490, in forward\n",
      "    hidden_states = self.attn1(norm_hidden_states, attention_mask=attention_mask) + hidden_states\n",
      "  File \"C:\\Users\\micha\\anaconda3\\envs\\fastapi_diffuser\\lib\\site-packages\\torch\\nn\\modules\\module.py\", line 1501, in _call_impl\n",
      "    return forward_call(*args, **kwargs)\n",
      "  File \"C:\\Users\\micha\\anaconda3\\envs\\fastapi_diffuser\\lib\\site-packages\\diffusers\\models\\attention.py\", line 638, in forward\n",
      "    hidden_states = self._attention(query, key, value, attention_mask)\n",
      "  File \"C:\\Users\\micha\\anaconda3\\envs\\fastapi_diffuser\\lib\\site-packages\\diffusers\\models\\attention.py\", line 655, in _attention\n",
      "    torch.empty(query.shape[0], query.shape[1], key.shape[1], dtype=query.dtype, device=query.device),\n",
      "torch.cuda.OutOfMemoryError: CUDA out of memory. Tried to allocate 15.00 GiB (GPU 0; 24.00 GiB total capacity; 3.62 GiB already allocated; 17.90 GiB free; 3.83 GiB reserved in total by PyTorch) If reserved memory is >> allocated memory try setting max_split_size_mb to avoid fragmentation.  See documentation for Memory Management and PYTORCH_CUDA_ALLOC_CONF\n"
     ]
    }
   ],
   "source": [
    "#@title Run the Stable Diffusion pipeline with interactive UI Demo on Gradio\n",
    "#@markdown Run this cell to get a Gradio UI like this to run your models\n",
    "\n",
    "#@markdown ![](https://i.imgur.com/bxHfawQ.png)\n",
    "import gradio as gr\n",
    "\n",
    "def inference(prompt, num_samples):\n",
    "    all_images = [] \n",
    "    images = pipe(prompt, num_images_per_prompt=num_samples, num_inference_steps=150, guidance_scale=7.5).images\n",
    "    all_images.extend(images)\n",
    "    return all_images\n",
    "\n",
    "with gr.Blocks() as demo:\n",
    "    gr.HTML(\"<h2 style=\\\"font-size: 2em; font-weight: bold\\\" align=\\\"center\\\">Stable Diffusion Dreambooth - Run Concept</h2>\")\n",
    "    with gr.Row():\n",
    "        with gr.Column():\n",
    "            prompt = gr.Textbox(label=\"prompt\")\n",
    "            samples = gr.Slider(label=\"Samples\",value=1)\n",
    "            run = gr.Button(value=\"Run\")\n",
    "        with gr.Column():\n",
    "            gallery = gr.Gallery(show_label=False)\n",
    "\n",
    "    run.click(inference, inputs=[prompt,samples], outputs=gallery)\n",
    "    gr.Examples([[\"a photo of sks toy riding a bicycle\", 1,1]], [prompt,samples], gallery, inference, cache_examples=False)\n",
    "\n",
    "\n",
    "demo.launch(debug=True)"
   ]
  },
  {
   "cell_type": "code",
   "execution_count": null,
   "id": "b7fb712c-d346-49ce-8990-48d6abace339",
   "metadata": {},
   "outputs": [],
   "source": []
  }
 ],
 "metadata": {
  "kernelspec": {
   "display_name": "Python 3 (ipykernel)",
   "language": "python",
   "name": "python3"
  },
  "language_info": {
   "codemirror_mode": {
    "name": "ipython",
    "version": 3
   },
   "file_extension": ".py",
   "mimetype": "text/x-python",
   "name": "python",
   "nbconvert_exporter": "python",
   "pygments_lexer": "ipython3",
   "version": "3.10.10"
  }
 },
 "nbformat": 4,
 "nbformat_minor": 5
}
